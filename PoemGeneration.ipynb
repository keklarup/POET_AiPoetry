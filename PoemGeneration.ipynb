{
 "cells": [
  {
   "cell_type": "markdown",
   "metadata": {},
   "source": [
    "# Puerile Odes Emitted Tirelessly (P.O.E.T)\n",
    "\n",
    "A notebook that uses a shallow LSTM neural network trained on amateur poems found online to generate new poems.\n",
    "\n",
    "Steps to have P.O.E.T generate a poem:\n",
    "1. Run each of the start up cells at the top of the notebook by selecting the cell and pressing either the play button on the screen or SHIFT+ENTER\n",
    "2. Pick which of the 2 different ways you want P.O.E.T to write a poem:\n",
    " * Probabalistic (random results)\n",
    " * Augmented (you help pick the words)\n",
    " \n",
    "In addition to unstemmed words, P.O.E.T. also uses the following 3 tokens when writing a poem:\n",
    "* starttoken   -- identifies the start of a poem. Often come in pairs b/c of how training was performed. \n",
    "* returntoken  -- identifies the end of a line in the poem ('\\n').\n",
    "* endtoken2    -- identifies the end of a poem. \n",
    "\n",
    "#### Caveats: This project is still a work in progress. The current P.O.E.T. model is a shallow first prototype trained on a relatively small amount of data. "
   ]
  },
  {
   "cell_type": "code",
   "execution_count": null,
   "metadata": {},
   "outputs": [],
   "source": [
    "#start up cell -- import necessary python functions and libraries\n",
    "import os\n",
    "import pickle\n",
    "import numpy as np\n",
    "from IPython.display import clear_output\n",
    "import gzip\n",
    "\n",
    "import AiPoems"
   ]
  },
  {
   "cell_type": "code",
   "execution_count": null,
   "metadata": {},
   "outputs": [],
   "source": [
    "#start up cell -- import necessary metadata for model\n",
    "with open('tokenizer.pickle', 'rb') as handle:\n",
    "    tokenizer = pickle.load(handle)\n",
    "with gzip.GzipFile('predictors.npy.gz', \"r\") as f:\n",
    "    predictors=np.load(f)\n",
    "with gzip.GzipFile('label.npy.gz', \"r\") as f:\n",
    "    label=np.load(f)\n",
    "total_words=len(label[0])\n",
    "max_sequence_len=len(predictors[0])+1\n",
    "filename='word_model_love_poems_composite_100.h5'"
   ]
  },
  {
   "cell_type": "code",
   "execution_count": null,
   "metadata": {},
   "outputs": [],
   "source": [
    "#start up cell -- initialize model\n",
    "model = AiPoems.initialize_model(predictors, label, max_sequence_len, \n",
    "                 total_words, device='/cpu:0')\n",
    "model=AiPoems.load_model(model, filename)"
   ]
  },
  {
   "cell_type": "markdown",
   "metadata": {},
   "source": [
    "## Probability based poem\n",
    "\n",
    "P.O.E.T. will write you a \"poem.\" The program selects the next word from a probability distribution based on the previous words in the poem.\n",
    "\n",
    "<b>Change the maxWords variable to change the maximum number of words P.O.E.T. will include in the poem before ending the poem.</b> P.O.E.T. may end the poem early, if an end-poem-token ('endtoken2') is selected while writing."
   ]
  },
  {
   "cell_type": "code",
   "execution_count": null,
   "metadata": {},
   "outputs": [],
   "source": [
    "maxWords=150\n",
    "seed_text='starttoken'\n",
    "AiPoem=AiPoems.generate_text_random(model, tokenizer, \n",
    "                                      maxWords, max_sequence_len, \n",
    "                                      seed_text=seed_text, top_n=30)\n",
    "print(AiPoem.replace('starttoken','').replace('returntoken','\\n').split('endtoken2')[0])"
   ]
  },
  {
   "cell_type": "markdown",
   "metadata": {},
   "source": [
    "## AI augmented writing\n",
    "\n",
    "Help P.O.E.T. out! The AI will use its probablistic model to generate several lines of \"poetry.\" Select the one you think is best and P.O.E.T will use your selection to generate options for the next line.\n",
    "\n",
    "Enter a non-integer (ex: 'end') to end early.\n",
    "\n",
    "Change choices variable to control number of lines for P.O.E.T to provide as options."
   ]
  },
  {
   "cell_type": "code",
   "execution_count": null,
   "metadata": {},
   "outputs": [],
   "source": [
    "choices=5\n",
    "AiPoem=AiPoems.augmented_line_writing(model, tokenizer, max_sequence_len, choices=choices)\n",
    "print(AiPoem.replace('starttoken','').replace('returntoken','\\n '))"
   ]
  },
  {
   "cell_type": "code",
   "execution_count": null,
   "metadata": {},
   "outputs": [],
   "source": []
  }
 ],
 "metadata": {
  "kernelspec": {
   "display_name": "tf_gpu",
   "language": "python",
   "name": "tf_gpu"
  },
  "language_info": {
   "codemirror_mode": {
    "name": "ipython",
    "version": 3
   },
   "file_extension": ".py",
   "mimetype": "text/x-python",
   "name": "python",
   "nbconvert_exporter": "python",
   "pygments_lexer": "ipython3",
   "version": "3.6.9"
  }
 },
 "nbformat": 4,
 "nbformat_minor": 2
}
